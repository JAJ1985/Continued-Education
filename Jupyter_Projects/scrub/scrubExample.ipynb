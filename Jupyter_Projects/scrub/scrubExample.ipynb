{
 "cells": [
  {
   "cell_type": "code",
   "execution_count": 7,
   "id": "31c5a4f3-9696-44ca-835d-db82421fd375",
   "metadata": {},
   "outputs": [
    {
     "name": "stdout",
     "output_type": "stream",
     "text": [
      "Collecting scrubadubdub\n",
      "  Downloading scrubadubdub-0.1.0-py3-none-any.whl.metadata (2.6 kB)\n",
      "Downloading scrubadubdub-0.1.0-py3-none-any.whl (3.6 kB)\n",
      "Installing collected packages: scrubadubdub\n",
      "Successfully installed scrubadubdub-0.1.0\n"
     ]
    }
   ],
   "source": [
    "!pip install scrubadubdub"
   ]
  },
  {
   "cell_type": "code",
   "execution_count": 5,
   "id": "454b10a2-ec50-4d2c-84c1-8c4ad6e5b315",
   "metadata": {},
   "outputs": [
    {
     "ename": "ImportError",
     "evalue": "cannot import name 'Scrub' from 'scrubadub' (C:\\Users\\josjohn\\AppData\\Local\\anaconda3\\Lib\\site-packages\\scrubadub\\__init__.py)",
     "output_type": "error",
     "traceback": [
      "\u001b[1;31m---------------------------------------------------------------------------\u001b[0m",
      "\u001b[1;31mImportError\u001b[0m                               Traceback (most recent call last)",
      "Cell \u001b[1;32mIn[5], line 1\u001b[0m\n\u001b[1;32m----> 1\u001b[0m \u001b[38;5;28;01mfrom\u001b[39;00m \u001b[38;5;21;01mscrubadub\u001b[39;00m \u001b[38;5;28;01mimport\u001b[39;00m Scrub\n",
      "\u001b[1;31mImportError\u001b[0m: cannot import name 'Scrub' from 'scrubadub' (C:\\Users\\josjohn\\AppData\\Local\\anaconda3\\Lib\\site-packages\\scrubadub\\__init__.py)"
     ]
    }
   ],
   "source": [
    "from scrubadub import Scrub"
   ]
  },
  {
   "cell_type": "code",
   "execution_count": null,
   "id": "642e43d2-63c5-49a6-8934-4dbc470adae2",
   "metadata": {},
   "outputs": [],
   "source": []
  }
 ],
 "metadata": {
  "kernelspec": {
   "display_name": "Python 3 (ipykernel)",
   "language": "python",
   "name": "python3"
  },
  "language_info": {
   "codemirror_mode": {
    "name": "ipython",
    "version": 3
   },
   "file_extension": ".py",
   "mimetype": "text/x-python",
   "name": "python",
   "nbconvert_exporter": "python",
   "pygments_lexer": "ipython3",
   "version": "3.12.4"
  }
 },
 "nbformat": 4,
 "nbformat_minor": 5
}
