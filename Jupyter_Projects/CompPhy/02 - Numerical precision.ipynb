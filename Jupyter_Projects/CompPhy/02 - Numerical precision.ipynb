{
 "cells": [
  {
   "cell_type": "code",
   "execution_count": null,
   "id": "c18ab8c9-9b0f-460c-9a50-2fbdb5db0c96",
   "metadata": {},
   "outputs": [],
   "source": [
    "# Import numpy and matplotlib, and use jupyter magic to\n",
    "# get plots directly in notebook\n",
    "import numpy as np\n",
    "%matplotlib inline\n",
    "from matplotlib import pyplot as plt"
   ]
  },
  {
   "cell_type": "markdown",
   "id": "d95d176d-aa00-4479-a5fb-c55169b90ee4",
   "metadata": {},
   "source": [
    "# Numerical precision\n",
    "\n",
    "On a computer, there is necessarily a limited amount of space available for storing numbers. The most common arrangement for storing  real numbers is the IEEE 754 standard for floating point numbers: https://en.wikipedia.org/wiki/IEEE_754\n",
    "\n"
   ]
  }
 ],
 "metadata": {
  "kernelspec": {
   "display_name": "Python 3 (ipykernel)",
   "language": "python",
   "name": "python3"
  },
  "language_info": {
   "codemirror_mode": {
    "name": "ipython",
    "version": 3
   },
   "file_extension": ".py",
   "mimetype": "text/x-python",
   "name": "python",
   "nbconvert_exporter": "python",
   "pygments_lexer": "ipython3",
   "version": "3.12.4"
  }
 },
 "nbformat": 4,
 "nbformat_minor": 5
}
