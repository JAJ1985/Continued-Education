{
 "cells": [
  {
   "cell_type": "markdown",
   "id": "c76b1b02-1f69-402a-902b-1bac9f313975",
   "metadata": {},
   "source": [
    "# Deep Learning Project with Keras"
   ]
  },
  {
   "cell_type": "markdown",
   "id": "34cbe437-f724-4db2-b38c-89d2482610d7",
   "metadata": {},
   "source": [
    "## Overview"
   ]
  },
  {
   "cell_type": "markdown",
   "id": "759d86a6-50c8-48cf-b760-d37eea9fa7b3",
   "metadata": {},
   "source": [
    "1. Load Data\n",
    "2. Define Keras Model\n",
    "3. Compile Keras Model\n",
    "4. Fit Keras Model\n",
    "5. Evaluate Keras Model\n",
    "6. Tie it all together\n",
    "7. Make Predications"
   ]
  },
  {
   "cell_type": "markdown",
   "id": "220ec6c0-61b1-4355-9c67-93750ded048b",
   "metadata": {},
   "source": [
    "## Load Data"
   ]
  },
  {
   "cell_type": "markdown",
   "id": "a81feacb-9692-4355-a68a-6a3fc1075668",
   "metadata": {},
   "source": [
    "#### Imports"
   ]
  },
  {
   "cell_type": "code",
   "execution_count": null,
   "id": "c7544bb3-424b-4964-8fdc-67ea9fcde191",
   "metadata": {},
   "outputs": [],
   "source": [
    "from numpy import loadtxt\n",
    "from tensorflow.keras.models import Sequential\n",
    "from tensorflow.keras.layers import Dense"
   ]
  },
  {
   "cell_type": "markdown",
   "id": "5c7068e6-28ff-4feb-8edb-6a253538e036",
   "metadata": {},
   "source": [
    "#### Load the Dataset"
   ]
  },
  {
   "cell_type": "markdown",
   "id": "a5ee587e-6d1b-4624-836f-2d6a1cf5b814",
   "metadata": {},
   "source": [
    "There are eight input variables and one output variable (the last column). You will be learning a model to map rows of input variables (X) to an output variable (y), which is often summarized as y = f(X).\n",
    "\n",
    "The variables can be summarized as follows:\n",
    "\n",
    "Input Variables (X):\n",
    "\n",
    "1. Number of times pregnant\n",
    "2. Plasma glucose concentration at 2 hours in an oral glucose tolerance test\n",
    "3. Diastolic blood pressure (mm Hg)\n",
    "4. Triceps skin fold thickness (mm)\n",
    "5. 2-hour serum insulin (mu U/ml)\n",
    "6. Body mass index (weight in kg/(height in m)^2)\n",
    "7. Diabetes pedigree function\n",
    "8. Age (years)\n",
    "\n",
    "Output Variables (y):\n",
    "\n",
    "1. Class variable (0 or 1)\n"
   ]
  },
  {
   "cell_type": "code",
   "execution_count": null,
   "id": "bf948fb8-dce2-473e-94ab-95a9866a793b",
   "metadata": {},
   "outputs": [],
   "source": [
    "dataset = loadtxt(r'C:\\Users\\josjohn\\Data\\pima-indians-diabetes.csv', delimiter=\",\")\n",
    "# Split into input (X) and output (y) variables\n",
    "X = dataset[:,0:8]\n",
    "y = dataset[:,8]"
   ]
  },
  {
   "cell_type": "markdown",
   "id": "c3396edc-e525-4012-b9c7-12d0e647bcd0",
   "metadata": {},
   "source": [
    "## Define Keras Model"
   ]
  },
  {
   "cell_type": "markdown",
   "id": "0771a8f0-2d71-4e91-8f3c-7a401a03989b",
   "metadata": {},
   "source": [
    "Models in Keras are defined as a sequence of layers.\n",
    "A sequential model is created and layers are added one at a time until the network architecture is sufficient for the current build.\n",
    "\n",
    "I will be using a fully-connected network structure with three layers. Fully connected layers are defined using the Dense calss. You can specify the number of neurons or nodes in the layer as the first argument and the activation function using the activation argument. \n",
    "\n",
    "Also, you will use the rectified linear unit activation function referred to as ReLU on the first two layers and the Sigmoid function in the output layer. Using a sigmoid on the output layer ensures your network output is between 0 and 1 and is easy to map to either a probability of class 1 or snap to a hard classification of either class with a default threshold of 0.5.\n",
    "\n",
    "It can be pieced together by ading each layer:\n",
    "\n",
    "1. The model expects rows of data with 8 variables (the input_shape=(8,) argument).\n",
    "2. The first hidden layer has 12 nodes and uses the relu activation function.\n",
    "3. The second hidden layer has 8 nodes and uses the relu activation function.\n",
    "4. The output layer has one node and uses the sigmoid activation function."
   ]
  },
  {
   "cell_type": "code",
   "execution_count": null,
   "id": "eaa4e920-1586-4c21-950a-903c983e5aab",
   "metadata": {},
   "outputs": [],
   "source": [
    "model = Sequential()\n",
    "model.add(Dense(12, input_shape=(8,), activation='relu'))\n",
    "model.add(Dense(8, activation='relu'))\n",
    "model.add(Dense(1, activation='sigmoid'))"
   ]
  },
  {
   "cell_type": "markdown",
   "id": "5b419d2c-22bc-4df1-99f7-162b18fd5752",
   "metadata": {},
   "source": [
    "## Compile Keras Model"
   ]
  },
  {
   "cell_type": "markdown",
   "id": "7eefc13f-a0d7-431f-aaa3-f7ec5d624440",
   "metadata": {},
   "source": [
    "Once the model is defined, it can then be compiled.\n",
    "\n",
    "Compiling the model uses the efficient numerical libraries under the covers (the so-called backend) such as Theano or TensorFlow. The backend automatically chooses the best way to represent the network for training and making predictions to run on your hardware, such as CPU, GPU, or even distributed.\n",
    "\n",
    "When compiling, you must specify some additional properties required when training the network. Training a network means finding the best set of weights to map inputs to outputs in your dataset.\n",
    "\n",
    "You must specify the loss function to use to evaluate a set of weights, the optimizer used to search through different weights for the network, and any optional metrics you want to collect and report during training.\n",
    "\n",
    "In this case, cross entropy is used as the loss argument. This loss is for a binary classification problems and is defined in Keras as “binary_crossentropy“. \n",
    "\n",
    "The optimizer will be defined as the efficient stochastic gradient descent algorithm “adam“. This is a popular version of gradient descent because it automatically tunes itself and gives good results in a wide range of problems\n",
    "\n",
    "Finally, because it is a classification problem, you will collect and report the classification accuracy defined via the metrics argument.\n"
   ]
  },
  {
   "cell_type": "code",
   "execution_count": null,
   "id": "eac34b9e-9a30-468e-8314-a01ecd039dab",
   "metadata": {},
   "outputs": [],
   "source": [
    "model.compile(loss='binary_crossentropy', optimizer='adam', metrics=['accuracy'])"
   ]
  },
  {
   "cell_type": "markdown",
   "id": "6ae46dcb-c768-4116-9fd7-a15943d4b939",
   "metadata": {},
   "source": [
    "## Fit Keras Model"
   ]
  },
  {
   "attachments": {},
   "cell_type": "markdown",
   "id": "0d5f61ed-59d2-4764-adc6-13af8df354c4",
   "metadata": {},
   "source": [
    "Now that the model has been compiled and will likley be ready for efficient computation.\n",
    "\n",
    "Time to execute the model on some data. The model can be trained or fit on the loaded data by calling the fit() function.\n",
    "Trainig occurs over epochs, and each epoch is split into branches.\n",
    "\n",
    "1. Epoch: One pass through all the rows in the training set.\n",
    "2. Batch: One or more samples considered by the model with an epoch before weights are updated.\n",
    "\n",
    "One epoch comprises one or more batches, based on the chosen batch size, and the model is fit for many epochs.\n",
    "\n",
    "The training process will run for a fixed number of epochs (iterations) through the dataset that you must specify using the epochs argument. You must also set the number of dataset rows that are considered before the model weights are updated within each epoch, called the batch size, and set using the batch_size argument.\n",
    "\n",
    "This problem will run for a small number of epochs (150) and use a relatively small batch size of 10.\n",
    "These configurations can be chosen experimentally by trial and error. You want to train the model enough so that it learns a good (or good enough) mapping of rows of input data to the output classification. The model will always have some error, but the amount of error will level out after some point for a given model configuration. This is called model convergence."
   ]
  },
  {
   "cell_type": "code",
   "execution_count": null,
   "id": "86d1106e-392d-47c4-87b3-26ea39dcc88e",
   "metadata": {},
   "outputs": [],
   "source": [
    "model.fit(X, y, epochs = 150, batch_size = 10) "
   ]
  },
  {
   "cell_type": "markdown",
   "id": "9f0b4db7-4f82-40fb-92ce-232a9d8deb03",
   "metadata": {},
   "source": [
    "## Evaluate Keras Model"
   ]
  },
  {
   "cell_type": "markdown",
   "id": "355f8658-ec50-47fb-a595-071d7239d984",
   "metadata": {},
   "source": [
    "The neural network has been trained on the entire dataset, and you can now be evaluate the performance of the network on the same dataset. \n",
    "\n",
    "This will only give you an idea of how well you have modeled the dataset (e.g., train accuracy), but no idea of how well the algorithm might perform on new data. This was done for simplicity, but ideally, you could separate your data into train and test datasets for training and evaluation of your model.\n",
    "\n",
    "You can evaluate your model on your training dataset using the evaluate() function and pass it the same input and output used to train the model.\n",
    "\n",
    "This will generate a prediction for each input and output pair and collect scores, including the average loss and any metrics you have configured, such as accuracy.\n",
    "The evaluate() function will return a list with two values. The first will be the loss of the model on the dataset, and the second will be the accuracy of the model on the dataset. You are only interested in reporting the accuracy so ignore the loss value."
   ]
  },
  {
   "cell_type": "code",
   "execution_count": null,
   "id": "f0cbe65d-e0c9-4dce-829e-76201140102e",
   "metadata": {},
   "outputs": [],
   "source": [
    "_, accuracy = model.evaluate(X, y)\n",
    "print('Accuracy: %.2f' % (accuracy*100))"
   ]
  },
  {
   "cell_type": "markdown",
   "id": "3d2eb1dd-27e9-43fb-8706-b69e34fab852",
   "metadata": {},
   "source": [
    "## Tie It All Together"
   ]
  },
  {
   "cell_type": "code",
   "execution_count": null,
   "id": "c7eeb515-9ea5-453d-be07-1c78f486966f",
   "metadata": {},
   "outputs": [],
   "source": [
    "'''\n",
    "from numpy import loadtxt\n",
    "from tensorflow.keras.models import Sequential\n",
    "from tensorflow.keras.layers import Dense\n",
    "# load the dataset\n",
    "dataset = loadtxt('pima-indians-diabetes.csv', delimiter=',')\n",
    "# split into input (X) and output (y) variables\n",
    "X = dataset[:,0:8]\n",
    "y = dataset[:,8]\n",
    "# define the keras model\n",
    "model = Sequential()\n",
    "model.add(Dense(12, input_shape=(8,), activation='relu'))\n",
    "model.add(Dense(8, activation='relu'))\n",
    "model.add(Dense(1, activation='sigmoid'))\n",
    "# compile the keras model\n",
    "model.compile(loss='binary_crossentropy', optimizer='adam', metrics=['accuracy'])\n",
    "# fit the keras model on the dataset\n",
    "model.fit(X, y, epochs=150, batch_size=10)\n",
    "# evaluate the keras model\n",
    "_, accuracy = model.evaluate(X, y)\n",
    "print('Accuracy: %.2f' % (accuracy*100))\n",
    "'''"
   ]
  }
 ],
 "metadata": {
  "kernelspec": {
   "display_name": "Python 3 (ipykernel)",
   "language": "python",
   "name": "python3"
  },
  "language_info": {
   "codemirror_mode": {
    "name": "ipython",
    "version": 3
   },
   "file_extension": ".py",
   "mimetype": "text/x-python",
   "name": "python",
   "nbconvert_exporter": "python",
   "pygments_lexer": "ipython3",
   "version": "3.10.9"
  }
 },
 "nbformat": 4,
 "nbformat_minor": 5
}
