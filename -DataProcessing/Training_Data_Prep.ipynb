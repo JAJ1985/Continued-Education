{
 "cells": [
  {
   "cell_type": "markdown",
   "id": "200d6f6d-f5f1-49eb-bd17-c694fed23369",
   "metadata": {},
   "source": [
    "Imports"
   ]
  },
  {
   "cell_type": "code",
   "execution_count": 2,
   "id": "97360234-41db-4c40-8e51-1a56c6013641",
   "metadata": {},
   "outputs": [],
   "source": [
    "import spacy\n",
    "from spacy.tokens import DocBin\n",
    "import pandas as pd\n",
    "import re"
   ]
  },
  {
   "cell_type": "markdown",
   "id": "4ea09846-1f77-43b2-b238-c90958104b3d",
   "metadata": {},
   "source": [
    "Functions"
   ]
  },
  {
   "cell_type": "code",
   "execution_count": null,
   "id": "ac89b471-b8ca-4851-96c2-4c900f9dd751",
   "metadata": {},
   "outputs": [],
   "source": [
    "def get_address_span(address=None,address_component=None,label=None):\n",
    "    '''Search for specified address component and get the span.\n",
    "    Eg: get_address_span(address=\"221 B, Baker Street, London\",address_component=\"221\",label=\"BUILDING_NO\") would return (0,2,\"BUILDING_NO\")'''\n",
    "\n",
    "    if pd.isna(address_component) or str(address_component)=='nan':\n",
    "        pass\n",
    "    else:\n",
    "        address_component1=re.sub('\\.','',address_component)\n",
    "        address_component2=re.sub(r'(?!\\s)(-)(?!\\s)',' - ',address_component1)\n",
    "        span=re.search('\\\\b(?:'+address_component2+')\\\\b',address)\n",
    "        #print(span)\n",
    "        return (span.start(),span.end(),label)\n",
    "\n",
    "def extend_list(entity_list,entity):\n",
    "    if pd.isna(entity):\n",
    "        return entity_list\n",
    "    else:\n",
    "        entity_list.append(entity)\n",
    "        return entity_list\n",
    "\n",
    "def create_entity_spans(df,tag_list):\n",
    "    '''Create entity spans for training/test datasets'''\n",
    "    df['Address']=df['Address'].apply(lambda x: massage_data(x))\n",
    "    df[\"BuildingTag\"]=df.apply(lambda row:get_address_span(address=row['Address'],address_component=row['Building_Name'],label='BUILDING_NAME'),axis=1)\n",
    "    df[\"BuildingNoTag\"]=df.apply(lambda row:get_address_span(address=row['Address'],address_component=row['Building_Number'],label='BUILDING_NO'),axis=1)\n",
    "    df[\"RecipientTag\"]=df.apply(lambda row:get_address_span(address=row['Address'],address_component=row['Recipient'],label='RECIPIENT'),axis=1)\n",
    "    df[\"StreetNameTag\"]=df.apply(lambda row:get_address_span(address=row['Address'],address_component=row['Street_Name'],label='STREET_NAME'),axis=1)\n",
    "    df[\"ZipCodeTag\"]=df.apply(lambda row:get_address_span(address=row['Address'],address_component=row['Zip_Code'],label='ZIP_CODE'),axis=1)\n",
    "    df[\"CityTag\"]=df.apply(lambda row:get_address_span(address=row['Address'],address_component=row['City'],label='CITY'),axis=1)\n",
    "    df[\"CountryTag\"]=df.apply(lambda row:get_address_span(address=row['Address'],address_component=row['Country'],label='COUNTRY'),axis=1)\n",
    "    df[\"StateTag\"]=df.apply(lambda row:get_address_span(address=row['Address'],address_component=row['State'],label='STATE'),axis=1)\n",
    "    df['EmptySpan']=df.apply(lambda x: [], axis=1)\n",
    "\n",
    "    for i in tag_list:\n",
    "        df['EntitySpans']=df.apply(lambda row: extend_list(row['EmptySpan'],row[i]),axis=1)\n",
    "        df['EntitySpans']=df[['EntitySpans','Address']].apply(lambda x: (x[1], x[0]),axis=1)\n",
    "    return df['EntitySpans']\n",
    "\n",
    "def get_doc_bin(training_data,nlp):\n",
    "    '''Create DocBin object for building training/test corpus'''\n",
    "    # the DocBin will store the example documents\n",
    "    db = DocBin()\n",
    "    for text, annotations in training_data:\n",
    "        doc = nlp(text) #Construct a Doc object\n",
    "        ents = []\n",
    "        for start, end, label in annotations:\n",
    "            span = doc.char_span(start, end, label=label)\n",
    "            ents.append(span)\n",
    "        doc.ents = ents\n",
    "        db.add(doc)\n",
    "    return db"
   ]
  },
  {
   "cell_type": "markdown",
   "id": "e745e11c-a868-47ff-b440-8169bc8459e5",
   "metadata": {},
   "source": [
    "Load blank English model. This is needed for initializing a Document object for our training/test set."
   ]
  },
  {
   "cell_type": "code",
   "execution_count": null,
   "id": "a0fff182-18eb-4f31-866b-f614391c264d",
   "metadata": {},
   "outputs": [],
   "source": [
    "nlp = spacy.blank('en)"
   ]
  },
  {
   "cell_type": "markdown",
   "id": "436be8fd-1c5f-444c-ae07-3f5e3e55039a",
   "metadata": {},
   "source": [
    "Define custom entity tag list"
   ]
  },
  {
   "cell_type": "code",
   "execution_count": null,
   "id": "98034227-3cff-422f-9074-82222108659b",
   "metadata": {},
   "outputs": [],
   "source": [
    "tag_list=[\"BuildingTag\",\"BuildingNoTag\",\"RecipientTag\",\"StreetNameTag\",\"ZipCodeTag\",\"CityTag\",\"StateTag\",\"CountryTag\"]"
   ]
  },
  {
   "cell_type": "markdown",
   "id": "869ebe12-432c-4a32-b842-8bcbb51e1c6d",
   "metadata": {},
   "source": [
    "#### Training dataset prep"
   ]
  },
  {
   "cell_type": "markdown",
   "id": "f3dc06b2-2422-40d1-9be9-2cfa6b10e038",
   "metadata": {},
   "source": [
    "Read the training dataset into pandas"
   ]
  },
  {
   "cell_type": "code",
   "execution_count": null,
   "id": "8656d9ed-421e-4ea8-8664-7aae3b9c6f96",
   "metadata": {},
   "outputs": [],
   "source": [
    "df_train=pd.read_csv(filepath_or_buffer=\"C:\\\\Python\\\\Address_NN\\\\Training_Data\\\\us-train-dataset.csv\",sep=\",\",dtype=str)"
   ]
  },
  {
   "cell_type": "markdown",
   "id": "bcdb9200-c847-4dde-b413-e61aa09d07a7",
   "metadata": {},
   "source": [
    "Get entity spans"
   ]
  },
  {
   "cell_type": "code",
   "execution_count": null,
   "id": "b8cca20a-0b24-41e2-b1e4-8947c9570421",
   "metadata": {},
   "outputs": [],
   "source": [
    "df_entity_spans= create_entity_spans(df_train.astype(str),tag_list)\n",
    "training_data= df_entity_spans.values.tolist()"
   ]
  },
  {
   "cell_type": "markdown",
   "id": "98ffa4a7-73bd-45ea-8263-48f2f03a72ea",
   "metadata": {},
   "source": [
    "Get & Persist DocBin to disk"
   ]
  },
  {
   "cell_type": "code",
   "execution_count": null,
   "id": "1e3d8667-1060-4d7f-82ef-fd185abdb2cb",
   "metadata": {},
   "outputs": [],
   "source": [
    "doc_bin_train= get_doc_bin(training_data,nlp)\n",
    "doc_bin_train.to_disk(\"./corpus/spacy-docbins/train.spacy\")"
   ]
  },
  {
   "cell_type": "markdown",
   "id": "04921f93-434b-407e-9026-cc14f6c561b1",
   "metadata": {},
   "source": [
    "#### Validation dataset prep"
   ]
  },
  {
   "cell_type": "markdown",
   "id": "dcd77707-47ab-422b-b0eb-cee9f2016b44",
   "metadata": {},
   "source": [
    "Read the validation dataset into pandas"
   ]
  },
  {
   "cell_type": "code",
   "execution_count": null,
   "id": "1534fc5b-e3ec-48e6-870c-9fa57f7af27b",
   "metadata": {},
   "outputs": [],
   "source": [
    "df_test=pd.read_csv(filepath_or_buffer=\"C:\\\\Python\\\\Address_NN\\\\Training_Data\\\\us-train-dataset.csv\",sep=\",\",dtype=str)"
   ]
  },
  {
   "cell_type": "markdown",
   "id": "c7d9a9d7-01f2-4e8a-8342-45806e0ff70c",
   "metadata": {},
   "source": [
    " Get entity spans"
   ]
  },
  {
   "cell_type": "code",
   "execution_count": null,
   "id": "5cd3cb4c-86a6-402c-8a9d-d89ade7af75d",
   "metadata": {},
   "outputs": [],
   "source": [
    "df_entity_spans= create_entity_spans(df_test.astype(str),tag_list)\n",
    "validation_data= df_entity_spans.values.tolist()"
   ]
  },
  {
   "cell_type": "markdown",
   "id": "d70cb892-92ca-4623-bb83-9bab403b1e25",
   "metadata": {},
   "source": [
    "Get & Persist DocBin to disk"
   ]
  },
  {
   "cell_type": "code",
   "execution_count": null,
   "id": "8b687623-0eac-4ed1-acae-ec8b3a1435fa",
   "metadata": {},
   "outputs": [],
   "source": [
    "doc_bin_test= get_doc_bin(validation_data,nlp)\n",
    "doc_bin_test.to_disk(\"./corpus/spacy-docbins/test.spacy\")"
   ]
  }
 ],
 "metadata": {
  "kernelspec": {
   "display_name": "Python 3 (ipykernel)",
   "language": "python",
   "name": "python3"
  },
  "language_info": {
   "codemirror_mode": {
    "name": "ipython",
    "version": 3
   },
   "file_extension": ".py",
   "mimetype": "text/x-python",
   "name": "python",
   "nbconvert_exporter": "python",
   "pygments_lexer": "ipython3",
   "version": "3.10.9"
  }
 },
 "nbformat": 4,
 "nbformat_minor": 5
}
