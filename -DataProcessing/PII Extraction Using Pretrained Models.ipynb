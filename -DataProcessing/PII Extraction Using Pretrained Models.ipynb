{
 "cells": [
  {
   "cell_type": "code",
   "execution_count": 21,
   "id": "72b740fe-00b4-4d54-bdd8-2692d514b068",
   "metadata": {},
   "outputs": [
    {
     "name": "stdout",
     "output_type": "stream",
     "text": [
      "Collecting watson-nlp-runtime-client\n",
      "  Using cached watson_nlp_runtime_client-2.0.1-py3-none-any.whl.metadata (659 bytes)\n",
      "Collecting grpcio<2.0,>=1.35.0 (from watson-nlp-runtime-client)\n",
      "  Downloading grpcio-1.67.0-cp312-cp312-win_amd64.whl.metadata (4.0 kB)\n",
      "Collecting grpcio-tools<2.0,>=1.35.0 (from watson-nlp-runtime-client)\n",
      "  Downloading grpcio_tools-1.67.0-cp312-cp312-win_amd64.whl.metadata (5.5 kB)\n",
      "Collecting protobuf==4.21.7 (from watson-nlp-runtime-client)\n",
      "  Using cached protobuf-4.21.7-cp310-abi3-win_amd64.whl.metadata (540 bytes)\n",
      "INFO: pip is looking at multiple versions of grpcio-tools to determine which version is compatible with other requirements. This could take a while.\n",
      "Collecting grpcio-tools<2.0,>=1.35.0 (from watson-nlp-runtime-client)\n",
      "  Downloading grpcio_tools-1.66.2-cp312-cp312-win_amd64.whl.metadata (5.5 kB)\n",
      "  Downloading grpcio_tools-1.66.1-cp312-cp312-win_amd64.whl.metadata (5.5 kB)\n",
      "  Downloading grpcio_tools-1.66.0-cp312-cp312-win_amd64.whl.metadata (5.5 kB)\n"
     ]
    }
   ],
   "source": [
    "#!pip install pretty-errors\n",
    "#!pip install ibm-watson\n",
    "!pip install watson-nlp-runtime-client"
   ]
  },
  {
   "cell_type": "code",
   "execution_count": 25,
   "id": "34734ce4-66de-4594-a46a-fb89ef99d160",
   "metadata": {},
   "outputs": [
    {
     "ename": "ModuleNotFoundError",
     "evalue": "No module named 'watson_nlp'",
     "output_type": "error",
     "traceback": [
      "\u001b[1;31m---------------------------------------------------------------------------\u001b[0m",
      "\u001b[1;31mModuleNotFoundError\u001b[0m                       Traceback (most recent call last)",
      "Cell \u001b[1;32mIn[25], line 7\u001b[0m\n\u001b[0;32m      5\u001b[0m \u001b[38;5;28;01mimport\u001b[39;00m \u001b[38;5;21;01mrandom\u001b[39;00m\n\u001b[0;32m      6\u001b[0m \u001b[38;5;28;01mfrom\u001b[39;00m \u001b[38;5;21;01mfaker\u001b[39;00m \u001b[38;5;28;01mimport\u001b[39;00m Faker\n\u001b[1;32m----> 7\u001b[0m \u001b[38;5;28;01mfrom\u001b[39;00m \u001b[38;5;21;01mwatson_nlp\u001b[39;00m \u001b[38;5;28;01mimport\u001b[39;00m data_model \u001b[38;5;28;01mas\u001b[39;00m dm\n\u001b[0;32m      8\u001b[0m \u001b[38;5;28;01mfrom\u001b[39;00m \u001b[38;5;21;01mwatson_nlp\u001b[39;00m\u001b[38;5;21;01m.\u001b[39;00m\u001b[38;5;21;01mtoolkit\u001b[39;00m\u001b[38;5;21;01m.\u001b[39;00m\u001b[38;5;21;01mentity_montions_utils\u001b[39;00m \u001b[38;5;28;01mimport\u001b[39;00m prepare_train_from_json\n",
      "\u001b[1;31mModuleNotFoundError\u001b[0m: No module named 'watson_nlp'"
     ]
    }
   ],
   "source": [
    "import pretty_errors\n",
    "import json\n",
    "import pandas as pd\n",
    "#import watson_nlp\n",
    "import random\n",
    "from faker import Faker\n",
    "from watson_nlp import data_model as dm\n",
    "from watson_nlp.toolkit.entity_montions_utils import prepare_train_from_json"
   ]
  },
  {
   "cell_type": "code",
   "execution_count": null,
   "id": "bf4589de-65ea-4381-9042-190c86db5062",
   "metadata": {},
   "outputs": [],
   "source": []
  }
 ],
 "metadata": {
  "kernelspec": {
   "display_name": "Python 3 (ipykernel)",
   "language": "python",
   "name": "python3"
  },
  "language_info": {
   "codemirror_mode": {
    "name": "ipython",
    "version": 3
   },
   "file_extension": ".py",
   "mimetype": "text/x-python",
   "name": "python",
   "nbconvert_exporter": "python",
   "pygments_lexer": "ipython3",
   "version": "3.12.4"
  }
 },
 "nbformat": 4,
 "nbformat_minor": 5
}
