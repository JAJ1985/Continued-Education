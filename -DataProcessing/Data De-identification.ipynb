{
 "cells": [
  {
   "cell_type": "markdown",
   "id": "3f08dd2d-c4d4-40d4-89b7-0a148c6a08e8",
   "metadata": {},
   "source": [
    "De-identify data - a definition:\n",
    "\n",
    "De-identifying data is the process of removing or obfuscating personally identifiable information from datasets, while still retaining their utility for analysis. One common method is to replace sensitive data with pseudonyms or anonymized values.\n",
    "\n",
    "In Python, one way to de-identify data is to use regular expressions (“regex”) to find and replace sensitive information. For example, the re library can be used to search for patterns such as email addresses, phone numbers, or social security numbers, and replace them with generic terms like \"EMAIL\", \"PHONE\", or \"SSN\".\n",
    "\n",
    "You can install this library with pip install regex."
   ]
  },
  {
   "cell_type": "markdown",
   "id": "b08bd0de-5a36-450a-9cce-ccecb207015d",
   "metadata": {},
   "source": [
    "Examples of de-identifying data in Python:"
   ]
  },
  {
   "cell_type": "code",
   "execution_count": 3,
   "id": "9f24007c-2338-4671-827c-a2a8f2ca94c0",
   "metadata": {},
   "outputs": [
    {
     "name": "stdout",
     "output_type": "stream",
     "text": [
      "John Smith's email is john.smith@examole.com and his phone number is 555-123-4567.\n"
     ]
    }
   ],
   "source": [
    "import re\n",
    "\n",
    "email_pattern = re.compile(r'\\b[\\w.-]+?@\\w+?\\.\\w+?\\b')\n",
    "phone_pattern = re.compile(r'\\b\\d{3}[-.]?\\d{3}[-.]?\\d{4}\\b')\n",
    "\n",
    "text = \"John Smith's email is john.smith@examole.com and his phone number is 555-123-4567.\"\n",
    "print(text)"
   ]
  },
  {
   "cell_type": "code",
   "execution_count": 4,
   "id": "377e1801-11a1-4774-90a5-8bd881bfeb1b",
   "metadata": {},
   "outputs": [
    {
     "name": "stdout",
     "output_type": "stream",
     "text": [
      "John Smith's email is EMAIL and his phone number is PHONE.\n"
     ]
    }
   ],
   "source": [
    "text = email_pattern.sub('EMAIL', text)\n",
    "text = phone_pattern.sub('PHONE', text)\n",
    "\n",
    "print(text)"
   ]
  },
  {
   "cell_type": "code",
   "execution_count": 5,
   "id": "6ce89c66-cd19-4852-9cc4-2a83948d7c61",
   "metadata": {},
   "outputs": [
    {
     "name": "stdout",
     "output_type": "stream",
     "text": [
      "ffa7ca146a2005662576a611dd9335431a5fa31aeb8ede5cf44d39f6e5daf265\n"
     ]
    }
   ],
   "source": [
    "import hashlib\n",
    "\n",
    "email = 'john.smith@email.com'\n",
    "hashed_email = hashlib.sha256(email.encode()).hexdigest()\n",
    "\n",
    "print(hashed_email)"
   ]
  },
  {
   "cell_type": "code",
   "execution_count": null,
   "id": "d2b3d7f0-e9ab-41d8-a634-f4d53b1f7273",
   "metadata": {},
   "outputs": [],
   "source": []
  }
 ],
 "metadata": {
  "kernelspec": {
   "display_name": "Python 3 (ipykernel)",
   "language": "python",
   "name": "python3"
  },
  "language_info": {
   "codemirror_mode": {
    "name": "ipython",
    "version": 3
   },
   "file_extension": ".py",
   "mimetype": "text/x-python",
   "name": "python",
   "nbconvert_exporter": "python",
   "pygments_lexer": "ipython3",
   "version": "3.12.4"
  }
 },
 "nbformat": 4,
 "nbformat_minor": 5
}
