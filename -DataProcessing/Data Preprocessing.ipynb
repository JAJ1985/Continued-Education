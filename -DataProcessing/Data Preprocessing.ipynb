{
 "cells": [
  {
   "cell_type": "markdown",
   "id": "7e91b117",
   "metadata": {},
   "source": [
    "# Data Preprocessing "
   ]
  },
  {
   "cell_type": "markdown",
   "id": "0017f016",
   "metadata": {},
   "source": [
    "STEPS of preprocessing data\n",
    "step:1] - Import neccessary libraries\n",
    "step:2] - Read dataset\n",
    "step:3] - Sanity check of dataset\n",
    "step:4] - Exploratory data analysis (EDA)\n",
    "step:5] - Missing value treatments\n",
    "step:6] - Outliers treatments\n",
    "step:7] - Duplicates and garage value treatments\n",
    "step:8] - Normalzation\n",
    "step:9] - Encoding"
   ]
  },
  {
   "cell_type": "markdown",
   "id": "7371f206",
   "metadata": {},
   "source": [
    "## Step 1: Import Neccessary Libraries"
   ]
  },
  {
   "cell_type": "code",
   "execution_count": 2,
   "id": "5495dd21",
   "metadata": {},
   "outputs": [],
   "source": [
    "import pandas as pd\n",
    "import numpy as np\n",
    "import seaborn as sns\n",
    "import matplotlib.pyplot as plt"
   ]
  },
  {
   "cell_type": "code",
   "execution_count": null,
   "id": "b90884b7",
   "metadata": {},
   "outputs": [],
   "source": []
  }
 ],
 "metadata": {
  "kernelspec": {
   "display_name": "Python 3 (ipykernel)",
   "language": "python",
   "name": "python3"
  },
  "language_info": {
   "codemirror_mode": {
    "name": "ipython",
    "version": 3
   },
   "file_extension": ".py",
   "mimetype": "text/x-python",
   "name": "python",
   "nbconvert_exporter": "python",
   "pygments_lexer": "ipython3",
   "version": "3.10.9"
  }
 },
 "nbformat": 4,
 "nbformat_minor": 5
}
