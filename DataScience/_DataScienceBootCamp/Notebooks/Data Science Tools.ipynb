{
 "cells": [
  {
   "cell_type": "markdown",
   "id": "58b08e8f-41cf-4936-9969-2c53897e87ce",
   "metadata": {},
   "source": [
    "# DataScience Tools"
   ]
  },
  {
   "cell_type": "markdown",
   "id": "5ca8a8fa-390f-4f05-ba4b-89a20c54eac8",
   "metadata": {},
   "source": [
    "## How to Anonymize Data"
   ]
  },
  {
   "cell_type": "markdown",
   "id": "582ecefa-2aa2-4378-b10d-15b3a1f2d1e5",
   "metadata": {},
   "source": [
    " - Scrubadub\n",
    "    - Anonymize data\n",
    "    - Remove personally identifiable information from free text\n",
    "    - pip install scrubadub\n",
    " - NLP method eg Spacy NER"
   ]
  },
  {
   "cell_type": "code",
   "execution_count": null,
   "id": "9c9eb1b2-c33a-47e2-9eb8-812b3cb287b8",
   "metadata": {},
   "outputs": [],
   "source": [
    "# Install Pkgs\n",
    "#%pip install scrubadub\n",
    "#%pip install scrubadub-spacy"
   ]
  },
  {
   "cell_type": "code",
   "execution_count": 3,
   "id": "b9a99209-c33c-45ca-ad89-6548b4c89a6a",
   "metadata": {},
   "outputs": [
    {
     "ename": "KeyboardInterrupt",
     "evalue": "",
     "output_type": "error",
     "traceback": [
      "\u001b[1;31m---------------------------------------------------------------------------\u001b[0m",
      "\u001b[1;31mKeyboardInterrupt\u001b[0m                         Traceback (most recent call last)",
      "Cell \u001b[1;32mIn[3], line 2\u001b[0m\n\u001b[0;32m      1\u001b[0m \u001b[38;5;66;03m# Load Pkgs\u001b[39;00m\n\u001b[1;32m----> 2\u001b[0m \u001b[38;5;28;01mimport\u001b[39;00m \u001b[38;5;21;01mscrubadub\u001b[39;00m\u001b[38;5;241m,\u001b[39m \u001b[38;5;21;01mscrubadub_spacy\u001b[39;00m\n",
      "File \u001b[1;32m~\\AppData\\Local\\anaconda3\\lib\\site-packages\\scrubadub\\__init__.py:5\u001b[0m\n\u001b[0;32m      2\u001b[0m \u001b[38;5;28;01mfrom\u001b[39;00m \u001b[38;5;21;01mtyping\u001b[39;00m \u001b[38;5;28;01mimport\u001b[39;00m Union, List, Dict, Sequence, Optional\n\u001b[0;32m      4\u001b[0m \u001b[38;5;66;03m# convenient imports\u001b[39;00m\n\u001b[1;32m----> 5\u001b[0m \u001b[38;5;28;01mfrom\u001b[39;00m \u001b[38;5;21;01m.\u001b[39;00m\u001b[38;5;21;01mscrubbers\u001b[39;00m \u001b[38;5;28;01mimport\u001b[39;00m Scrubber\n\u001b[0;32m      6\u001b[0m \u001b[38;5;28;01mfrom\u001b[39;00m \u001b[38;5;21;01m.\u001b[39;00m \u001b[38;5;28;01mimport\u001b[39;00m filth\n\u001b[0;32m      7\u001b[0m \u001b[38;5;28;01mfrom\u001b[39;00m \u001b[38;5;21;01m.\u001b[39;00m \u001b[38;5;28;01mimport\u001b[39;00m detectors\n",
      "File \u001b[1;32m~\\AppData\\Local\\anaconda3\\lib\\site-packages\\scrubadub\\scrubbers.py:4\u001b[0m\n\u001b[0;32m      1\u001b[0m \u001b[38;5;28;01mimport\u001b[39;00m \u001b[38;5;21;01mwarnings\u001b[39;00m\n\u001b[0;32m      2\u001b[0m \u001b[38;5;28;01mfrom\u001b[39;00m \u001b[38;5;21;01mtyping\u001b[39;00m \u001b[38;5;28;01mimport\u001b[39;00m Optional, Sequence, Generator, Dict, Type, Union, List\n\u001b[1;32m----> 4\u001b[0m \u001b[38;5;28;01mfrom\u001b[39;00m \u001b[38;5;21;01m.\u001b[39;00m \u001b[38;5;28;01mimport\u001b[39;00m detectors\n\u001b[0;32m      5\u001b[0m \u001b[38;5;28;01mfrom\u001b[39;00m \u001b[38;5;21;01m.\u001b[39;00m \u001b[38;5;28;01mimport\u001b[39;00m post_processors\n\u001b[0;32m      6\u001b[0m \u001b[38;5;28;01mfrom\u001b[39;00m \u001b[38;5;21;01m.\u001b[39;00m\u001b[38;5;21;01mdetectors\u001b[39;00m \u001b[38;5;28;01mimport\u001b[39;00m Detector\n",
      "File \u001b[1;32m~\\AppData\\Local\\anaconda3\\lib\\site-packages\\scrubadub\\detectors\\__init__.py:6\u001b[0m\n\u001b[0;32m      4\u001b[0m \u001b[38;5;28;01mfrom\u001b[39;00m \u001b[38;5;21;01m.\u001b[39;00m\u001b[38;5;21;01mcredential\u001b[39;00m \u001b[38;5;28;01mimport\u001b[39;00m CredentialDetector\n\u001b[0;32m      5\u001b[0m \u001b[38;5;28;01mfrom\u001b[39;00m \u001b[38;5;21;01m.\u001b[39;00m\u001b[38;5;21;01mcredit_card\u001b[39;00m \u001b[38;5;28;01mimport\u001b[39;00m CreditCardDetector\n\u001b[1;32m----> 6\u001b[0m \u001b[38;5;28;01mfrom\u001b[39;00m \u001b[38;5;21;01m.\u001b[39;00m\u001b[38;5;21;01mdate_of_birth\u001b[39;00m \u001b[38;5;28;01mimport\u001b[39;00m DateOfBirthDetector\n\u001b[0;32m      7\u001b[0m \u001b[38;5;28;01mfrom\u001b[39;00m \u001b[38;5;21;01m.\u001b[39;00m\u001b[38;5;21;01mdrivers_licence\u001b[39;00m \u001b[38;5;28;01mimport\u001b[39;00m DriversLicenceDetector\n\u001b[0;32m      8\u001b[0m \u001b[38;5;28;01mfrom\u001b[39;00m \u001b[38;5;21;01m.\u001b[39;00m\u001b[38;5;21;01memail\u001b[39;00m \u001b[38;5;28;01mimport\u001b[39;00m EmailDetector\n",
      "File \u001b[1;32m~\\AppData\\Local\\anaconda3\\lib\\site-packages\\scrubadub\\detectors\\date_of_birth.py:13\u001b[0m\n\u001b[0;32m     11\u001b[0m \u001b[38;5;28;01mimport\u001b[39;00m \u001b[38;5;21;01mre\u001b[39;00m\n\u001b[0;32m     12\u001b[0m \u001b[38;5;28;01mimport\u001b[39;00m \u001b[38;5;21;01mlogging\u001b[39;00m\n\u001b[1;32m---> 13\u001b[0m \u001b[38;5;28;01mfrom\u001b[39;00m \u001b[38;5;21;01mdateparser\u001b[39;00m\u001b[38;5;21;01m.\u001b[39;00m\u001b[38;5;21;01msearch\u001b[39;00m \u001b[38;5;28;01mimport\u001b[39;00m search_dates\n\u001b[0;32m     14\u001b[0m \u001b[38;5;28;01mfrom\u001b[39;00m \u001b[38;5;21;01mdatetime\u001b[39;00m \u001b[38;5;28;01mimport\u001b[39;00m datetime\n\u001b[0;32m     16\u001b[0m \u001b[38;5;28;01mfrom\u001b[39;00m \u001b[38;5;21;01mtyping\u001b[39;00m \u001b[38;5;28;01mimport\u001b[39;00m Optional, List, Generator\n",
      "File \u001b[1;32m~\\AppData\\Local\\anaconda3\\lib\\site-packages\\dateparser\\search\\__init__.py:3\u001b[0m\n\u001b[0;32m      1\u001b[0m \u001b[38;5;28;01mfrom\u001b[39;00m \u001b[38;5;21;01mdateparser\u001b[39;00m\u001b[38;5;21;01m.\u001b[39;00m\u001b[38;5;21;01msearch\u001b[39;00m\u001b[38;5;21;01m.\u001b[39;00m\u001b[38;5;21;01msearch\u001b[39;00m \u001b[38;5;28;01mimport\u001b[39;00m DateSearchWithDetection\n\u001b[1;32m----> 3\u001b[0m _search_with_detection \u001b[38;5;241m=\u001b[39m \u001b[43mDateSearchWithDetection\u001b[49m\u001b[43m(\u001b[49m\u001b[43m)\u001b[49m\n\u001b[0;32m      6\u001b[0m \u001b[38;5;28;01mdef\u001b[39;00m \u001b[38;5;21msearch_dates\u001b[39m(\n\u001b[0;32m      7\u001b[0m     text,\n\u001b[0;32m      8\u001b[0m     languages\u001b[38;5;241m=\u001b[39m\u001b[38;5;28;01mNone\u001b[39;00m,\n\u001b[1;32m   (...)\u001b[0m\n\u001b[0;32m     11\u001b[0m     detect_languages_function\u001b[38;5;241m=\u001b[39m\u001b[38;5;28;01mNone\u001b[39;00m,\n\u001b[0;32m     12\u001b[0m ):\n\u001b[0;32m     13\u001b[0m     \u001b[38;5;124;03m\"\"\"Find all substrings of the given string which represent date and/or time and parse them.\u001b[39;00m\n\u001b[0;32m     14\u001b[0m \n\u001b[0;32m     15\u001b[0m \u001b[38;5;124;03m    :param text:\u001b[39;00m\n\u001b[1;32m   (...)\u001b[0m\n\u001b[0;32m     58\u001b[0m \n\u001b[0;32m     59\u001b[0m \u001b[38;5;124;03m    \"\"\"\u001b[39;00m\n",
      "File \u001b[1;32m~\\AppData\\Local\\anaconda3\\lib\\site-packages\\dateparser\\search\\search.py:201\u001b[0m, in \u001b[0;36mDateSearchWithDetection.__init__\u001b[1;34m(self)\u001b[0m\n\u001b[0;32m    199\u001b[0m \u001b[38;5;28;01mdef\u001b[39;00m \u001b[38;5;21m__init__\u001b[39m(\u001b[38;5;28mself\u001b[39m):\n\u001b[0;32m    200\u001b[0m     \u001b[38;5;28mself\u001b[39m\u001b[38;5;241m.\u001b[39mloader \u001b[38;5;241m=\u001b[39m LocaleDataLoader()\n\u001b[1;32m--> 201\u001b[0m     \u001b[38;5;28mself\u001b[39m\u001b[38;5;241m.\u001b[39mavailable_language_map \u001b[38;5;241m=\u001b[39m \u001b[38;5;28;43mself\u001b[39;49m\u001b[38;5;241;43m.\u001b[39;49m\u001b[43mloader\u001b[49m\u001b[38;5;241;43m.\u001b[39;49m\u001b[43mget_locale_map\u001b[49m\u001b[43m(\u001b[49m\u001b[43m)\u001b[49m\n\u001b[0;32m    202\u001b[0m     \u001b[38;5;28mself\u001b[39m\u001b[38;5;241m.\u001b[39msearch \u001b[38;5;241m=\u001b[39m _ExactLanguageSearch(\u001b[38;5;28mself\u001b[39m\u001b[38;5;241m.\u001b[39mloader)\n",
      "File \u001b[1;32m~\\AppData\\Local\\anaconda3\\lib\\site-packages\\dateparser\\languages\\loader.py:84\u001b[0m, in \u001b[0;36mLocaleDataLoader.get_locale_map\u001b[1;34m(self, languages, locales, region, use_given_order, allow_conflicting_locales)\u001b[0m\n\u001b[0;32m     45\u001b[0m \u001b[38;5;28;01mdef\u001b[39;00m \u001b[38;5;21mget_locale_map\u001b[39m(\n\u001b[0;32m     46\u001b[0m     \u001b[38;5;28mself\u001b[39m,\n\u001b[0;32m     47\u001b[0m     languages\u001b[38;5;241m=\u001b[39m\u001b[38;5;28;01mNone\u001b[39;00m,\n\u001b[1;32m   (...)\u001b[0m\n\u001b[0;32m     51\u001b[0m     allow_conflicting_locales\u001b[38;5;241m=\u001b[39m\u001b[38;5;28;01mFalse\u001b[39;00m,\n\u001b[0;32m     52\u001b[0m ):\n\u001b[0;32m     53\u001b[0m     \u001b[38;5;124;03m\"\"\"\u001b[39;00m\n\u001b[0;32m     54\u001b[0m \u001b[38;5;124;03m    Get an ordered mapping with locale codes as keys\u001b[39;00m\n\u001b[0;32m     55\u001b[0m \u001b[38;5;124;03m    and corresponding locale instances as values.\u001b[39;00m\n\u001b[1;32m   (...)\u001b[0m\n\u001b[0;32m     82\u001b[0m \u001b[38;5;124;03m    :return: ordered locale code to locale instance mapping\u001b[39;00m\n\u001b[0;32m     83\u001b[0m \u001b[38;5;124;03m    \"\"\"\u001b[39;00m\n\u001b[1;32m---> 84\u001b[0m     \u001b[38;5;28;01mreturn\u001b[39;00m \u001b[43mOrderedDict\u001b[49m\u001b[43m(\u001b[49m\n\u001b[0;32m     85\u001b[0m \u001b[43m        \u001b[49m\u001b[38;5;28;43mself\u001b[39;49m\u001b[38;5;241;43m.\u001b[39;49m\u001b[43m_load_data\u001b[49m\u001b[43m(\u001b[49m\n\u001b[0;32m     86\u001b[0m \u001b[43m            \u001b[49m\u001b[43mlanguages\u001b[49m\u001b[38;5;241;43m=\u001b[39;49m\u001b[43mlanguages\u001b[49m\u001b[43m,\u001b[49m\n\u001b[0;32m     87\u001b[0m \u001b[43m            \u001b[49m\u001b[43mlocales\u001b[49m\u001b[38;5;241;43m=\u001b[39;49m\u001b[43mlocales\u001b[49m\u001b[43m,\u001b[49m\n\u001b[0;32m     88\u001b[0m \u001b[43m            \u001b[49m\u001b[43mregion\u001b[49m\u001b[38;5;241;43m=\u001b[39;49m\u001b[43mregion\u001b[49m\u001b[43m,\u001b[49m\n\u001b[0;32m     89\u001b[0m \u001b[43m            \u001b[49m\u001b[43muse_given_order\u001b[49m\u001b[38;5;241;43m=\u001b[39;49m\u001b[43muse_given_order\u001b[49m\u001b[43m,\u001b[49m\n\u001b[0;32m     90\u001b[0m \u001b[43m            \u001b[49m\u001b[43mallow_conflicting_locales\u001b[49m\u001b[38;5;241;43m=\u001b[39;49m\u001b[43mallow_conflicting_locales\u001b[49m\u001b[43m,\u001b[49m\n\u001b[0;32m     91\u001b[0m \u001b[43m        \u001b[49m\u001b[43m)\u001b[49m\n\u001b[0;32m     92\u001b[0m \u001b[43m    \u001b[49m\u001b[43m)\u001b[49m\n",
      "File \u001b[1;32m~\\AppData\\Local\\anaconda3\\lib\\site-packages\\dateparser\\languages\\loader.py:215\u001b[0m, in \u001b[0;36mLocaleDataLoader._load_data\u001b[1;34m(self, languages, locales, region, use_given_order, allow_conflicting_locales)\u001b[0m\n\u001b[0;32m    212\u001b[0m     \u001b[38;5;28mself\u001b[39m\u001b[38;5;241m.\u001b[39m_loaded_locales[shortname] \u001b[38;5;241m=\u001b[39m locale\n\u001b[0;32m    213\u001b[0m \u001b[38;5;28;01melse\u001b[39;00m:\n\u001b[0;32m    214\u001b[0m     language_info \u001b[38;5;241m=\u001b[39m \u001b[38;5;28mgetattr\u001b[39m(\n\u001b[1;32m--> 215\u001b[0m         \u001b[43mimport_module\u001b[49m\u001b[43m(\u001b[49m\u001b[38;5;124;43m\"\u001b[39;49m\u001b[38;5;124;43mdateparser.data.date_translation_data.\u001b[39;49m\u001b[38;5;124;43m\"\u001b[39;49m\u001b[43m \u001b[49m\u001b[38;5;241;43m+\u001b[39;49m\u001b[43m \u001b[49m\u001b[43mlang\u001b[49m\u001b[43m)\u001b[49m,\n\u001b[0;32m    216\u001b[0m         \u001b[38;5;124m\"\u001b[39m\u001b[38;5;124minfo\u001b[39m\u001b[38;5;124m\"\u001b[39m,\n\u001b[0;32m    217\u001b[0m     )\n\u001b[0;32m    218\u001b[0m     locale \u001b[38;5;241m=\u001b[39m Locale(shortname, language_info\u001b[38;5;241m=\u001b[39mdeepcopy(language_info))\n\u001b[0;32m    219\u001b[0m     \u001b[38;5;28mself\u001b[39m\u001b[38;5;241m.\u001b[39m_loaded_languages[lang] \u001b[38;5;241m=\u001b[39m language_info\n",
      "File \u001b[1;32m~\\AppData\\Local\\anaconda3\\lib\\importlib\\__init__.py:126\u001b[0m, in \u001b[0;36mimport_module\u001b[1;34m(name, package)\u001b[0m\n\u001b[0;32m    124\u001b[0m             \u001b[38;5;28;01mbreak\u001b[39;00m\n\u001b[0;32m    125\u001b[0m         level \u001b[38;5;241m+\u001b[39m\u001b[38;5;241m=\u001b[39m \u001b[38;5;241m1\u001b[39m\n\u001b[1;32m--> 126\u001b[0m \u001b[38;5;28;01mreturn\u001b[39;00m \u001b[43m_bootstrap\u001b[49m\u001b[38;5;241;43m.\u001b[39;49m\u001b[43m_gcd_import\u001b[49m\u001b[43m(\u001b[49m\u001b[43mname\u001b[49m\u001b[43m[\u001b[49m\u001b[43mlevel\u001b[49m\u001b[43m:\u001b[49m\u001b[43m]\u001b[49m\u001b[43m,\u001b[49m\u001b[43m \u001b[49m\u001b[43mpackage\u001b[49m\u001b[43m,\u001b[49m\u001b[43m \u001b[49m\u001b[43mlevel\u001b[49m\u001b[43m)\u001b[49m\n",
      "File \u001b[1;32m<frozen importlib._bootstrap>:1050\u001b[0m, in \u001b[0;36m_gcd_import\u001b[1;34m(name, package, level)\u001b[0m\n",
      "File \u001b[1;32m<frozen importlib._bootstrap>:1027\u001b[0m, in \u001b[0;36m_find_and_load\u001b[1;34m(name, import_)\u001b[0m\n",
      "File \u001b[1;32m<frozen importlib._bootstrap>:1006\u001b[0m, in \u001b[0;36m_find_and_load_unlocked\u001b[1;34m(name, import_)\u001b[0m\n",
      "File \u001b[1;32m<frozen importlib._bootstrap>:688\u001b[0m, in \u001b[0;36m_load_unlocked\u001b[1;34m(spec)\u001b[0m\n",
      "File \u001b[1;32m<frozen importlib._bootstrap_external>:879\u001b[0m, in \u001b[0;36mexec_module\u001b[1;34m(self, module)\u001b[0m\n",
      "File \u001b[1;32m<frozen importlib._bootstrap_external>:975\u001b[0m, in \u001b[0;36mget_code\u001b[1;34m(self, fullname)\u001b[0m\n",
      "File \u001b[1;32m<frozen importlib._bootstrap_external>:1074\u001b[0m, in \u001b[0;36mget_data\u001b[1;34m(self, path)\u001b[0m\n",
      "\u001b[1;31mKeyboardInterrupt\u001b[0m: "
     ]
    }
   ],
   "source": [
    "# Load Pkgs\n",
    "import scrubadub, scrubadub_spacy"
   ]
  },
  {
   "cell_type": "code",
   "execution_count": 1,
   "id": "607a51e2-a3d9-44c1-8667-d8544b2fc576",
   "metadata": {},
   "outputs": [],
   "source": [
    "# Could this be looking at a REAL CC, test ones are not being picked up.\n",
    "ex = '''\n",
    "        \"C: Test. Test. Test.\",\n",
    "        \"A: Test. Test. Test.\",\n",
    "        \"C: Hello. 1, 2. Test.\",\n",
    "        \"C: Testing consumer side.\",\n",
    "        \"C: And my phone number is 9 2 0 8 5 0 7 2 6 0. Test.\",\n",
    "        \"C: My address is 1 2 3 4 South Google Street.\",\n",
    "        \"A: Hello. 1 Test.\",\n",
    "        \"A: Testing agent side.\"\n",
    "'''        "
   ]
  },
  {
   "cell_type": "code",
   "execution_count": 6,
   "id": "0929f455-9e27-4b30-8b0c-bbf040464ebe",
   "metadata": {
    "scrolled": true
   },
   "outputs": [
    {
     "data": {
      "text/plain": [
       "['Dict',\n",
       " 'Filth',\n",
       " 'List',\n",
       " 'Optional',\n",
       " 'Scrubber',\n",
       " 'Sequence',\n",
       " 'Union',\n",
       " 'VERSION',\n",
       " '__all__',\n",
       " '__builtins__',\n",
       " '__cached__',\n",
       " '__doc__',\n",
       " '__file__',\n",
       " '__loader__',\n",
       " '__name__',\n",
       " '__package__',\n",
       " '__path__',\n",
       " '__spec__',\n",
       " '__version__',\n",
       " 'clean',\n",
       " 'clean_documents',\n",
       " 'detectors',\n",
       " 'exceptions',\n",
       " 'filth',\n",
       " 'list_filth',\n",
       " 'list_filth_documents',\n",
       " 'post_processors',\n",
       " 'scrubbers',\n",
       " 'utils']"
      ]
     },
     "execution_count": 6,
     "metadata": {},
     "output_type": "execute_result"
    }
   ],
   "source": [
    "dir(scrubadub)"
   ]
  },
  {
   "cell_type": "markdown",
   "id": "21bc06ef-6297-43cf-8f18-11d0c382b2ba",
   "metadata": {},
   "source": [
    "## Redact/Anaonymize Identifiers by default no consistency in Indetifiers\n",
    "scrubadub.clean(ex)"
   ]
  },
  {
   "cell_type": "markdown",
   "id": "354c3327-1866-4087-96bc-8cbeb4f7c340",
   "metadata": {},
   "source": [
    "### Adding Optional or External Detector"
   ]
  },
  {
   "cell_type": "code",
   "execution_count": null,
   "id": "e4663cd9-e497-40a0-8715-bd80c86e1601",
   "metadata": {},
   "outputs": [],
   "source": [
    "# To add an optional detector, create a scrubber, add the detector, and then scrub away.\n",
    "scrubber = scrubadub.Scrubber()\n",
    "#scrubber.add_detector(scrubadub.detectors.CreditCardDetector)\n",
    "#scrubber.add_detector(scrubadub.detectors.PhoneDetector)\n",
    "\n",
    "scrubber.clean(ex)"
   ]
  },
  {
   "cell_type": "code",
   "execution_count": null,
   "id": "3cf352d0-5cf9-4956-8c52-c0bba1bc934c",
   "metadata": {},
   "outputs": [],
   "source": []
  }
 ],
 "metadata": {
  "kernelspec": {
   "display_name": "Python 3 (ipykernel)",
   "language": "python",
   "name": "python3"
  },
  "language_info": {
   "codemirror_mode": {
    "name": "ipython",
    "version": 3
   },
   "file_extension": ".py",
   "mimetype": "text/x-python",
   "name": "python",
   "nbconvert_exporter": "python",
   "pygments_lexer": "ipython3",
   "version": "3.10.9"
  }
 },
 "nbformat": 4,
 "nbformat_minor": 5
}
