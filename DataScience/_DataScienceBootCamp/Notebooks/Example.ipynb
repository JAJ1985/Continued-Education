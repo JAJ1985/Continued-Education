{
 "cells": [
  {
   "cell_type": "code",
   "execution_count": null,
   "id": "1c85dd64-557d-4335-8050-5608c2030a24",
   "metadata": {},
   "outputs": [],
   "source": [
    "import pandas as pd\n",
    "import matplotlib.pyplot as plt\n",
    "import seaborn as sns\n",
    "sns.set()\n",
    "from sklearn.cluster import KMeans\n",
    "from sklearn import prepocessing"
   ]
  },
  {
   "cell_type": "code",
   "execution_count": null,
   "id": "e6585418-0a1f-4ecd-bf9f-f3ee0cb19abe",
   "metadata": {},
   "outputs": [],
   "source": [
    "data = pd.read_csv('Example.csv')"
   ]
  },
  {
   "cell_type": "code",
   "execution_count": null,
   "id": "93af6da1-007a-4fdc-affa-7e6d06fbb333",
   "metadata": {},
   "outputs": [],
   "source": [
    "plt.scatter(data['Satisfaction'],data['Loyalty'])\n",
    "plt.xlabel('Satisfaction')\n",
    "plt.ylabel('Loyalty')"
   ]
  }
 ],
 "metadata": {
  "kernelspec": {
   "display_name": "Python 3 (ipykernel)",
   "language": "python",
   "name": "python3"
  },
  "language_info": {
   "codemirror_mode": {
    "name": "ipython",
    "version": 3
   },
   "file_extension": ".py",
   "mimetype": "text/x-python",
   "name": "python",
   "nbconvert_exporter": "python",
   "pygments_lexer": "ipython3",
   "version": "3.10.9"
  }
 },
 "nbformat": 4,
 "nbformat_minor": 5
}
