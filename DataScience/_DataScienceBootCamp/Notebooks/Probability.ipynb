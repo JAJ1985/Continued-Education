{
 "cells": [
  {
   "cell_type": "code",
   "execution_count": 2,
   "id": "0a2cd29e-07d7-45fa-8477-6de931bf3408",
   "metadata": {},
   "outputs": [],
   "source": [
    "import matplotlib.pyplot as plt\n",
    "import numpy as np\n",
    "import sklearn.linear_model"
   ]
  },
  {
   "cell_type": "code",
   "execution_count": 6,
   "id": "13374ec8-9ec6-46ff-b7ff-5bd9dc2c45d0",
   "metadata": {},
   "outputs": [
    {
     "ename": "NameError",
     "evalue": "name 'aapl' is not defined",
     "output_type": "error",
     "traceback": [
      "\u001b[1;31m---------------------------------------------------------------------------\u001b[0m",
      "\u001b[1;31mNameError\u001b[0m                                 Traceback (most recent call last)",
      "Cell \u001b[1;32mIn[6], line 1\u001b[0m\n\u001b[1;32m----> 1\u001b[0m prob \u001b[38;5;241m=\u001b[39m (\u001b[43maapl\u001b[49m\n\u001b[0;32m      2\u001b[0m     [[\u001b[38;5;124m'\u001b[39m\u001b[38;5;124mClose\u001b[39m\u001b[38;5;124m'\u001b[39m]]\n\u001b[0;32m      3\u001b[0m     \u001b[38;5;241m.\u001b[39mpct_change()\n\u001b[0;32m      4\u001b[0m     \u001b[38;5;241m.\u001b[39mdropna()\n\u001b[0;32m      5\u001b[0m     \u001b[38;5;241m.\u001b[39mrename(columns \u001b[38;5;241m=\u001b[39m {\u001b[38;5;124m'\u001b[39m\u001b[38;5;124mClose\u001b[39m\u001b[38;5;124m'\u001b[39m:\u001b[38;5;124m'\u001b[39m\u001b[38;5;124mpct_change_close\u001b[39m\u001b[38;5;124m'\u001b[39m})\n\u001b[0;32m      6\u001b[0m     \u001b[38;5;241m.\u001b[39msort_values(by \u001b[38;5;241m=\u001b[39m \u001b[38;5;124m'\u001b[39m\u001b[38;5;124mpct_change_close\u001b[39m\u001b[38;5;124m'\u001b[39m)\n\u001b[0;32m      7\u001b[0m     \u001b[38;5;241m.\u001b[39massign(quantiles \u001b[38;5;241m=\u001b[39m \u001b[38;5;28;01mlambda\u001b[39;00m adf: np\u001b[38;5;241m.\u001b[39msort(np\u001b[38;5;241m.\u001b[39mrandom\u001b[38;5;241m.\u001b[39mnormal(size \u001b[38;5;241m=\u001b[39m \u001b[38;5;28mlen\u001b[39m(adf))))\n\u001b[0;32m      8\u001b[0m )\n\u001b[0;32m     10\u001b[0m ax \u001b[38;5;241m=\u001b[39m (qq\n\u001b[0;32m     11\u001b[0m       \u001b[38;5;241m.\u001b[39mplot\u001b[38;5;241m.\u001b[39mscatter(x \u001b[38;5;241m=\u001b[39m \u001b[38;5;124m'\u001b[39m\u001b[38;5;124mqantiles\u001b[39m\u001b[38;5;124m'\u001b[39m, y \u001b[38;5;241m=\u001b[39m \u001b[38;5;124m'\u001b[39m\u001b[38;5;124mpct_change_close\u001b[39m\u001b[38;5;124m'\u001b[39m, alpha \u001b[38;5;241m=\u001b[39m \u001b[38;5;241m.3\u001b[39m,\n\u001b[0;32m     12\u001b[0m                     title \u001b[38;5;241m=\u001b[39m \u001b[38;5;124m'\u001b[39m\u001b[38;5;124mProbability Plot\u001b[39m\u001b[38;5;124m'\u001b[39m)\n\u001b[0;32m     13\u001b[0m )\n\u001b[0;32m     15\u001b[0m lm \u001b[38;5;241m=\u001b[39m sklearn\u001b[38;5;241m.\u001b[39mlinear_model\u001b[38;5;241m.\u001b[39mLinearRegression()\n",
      "\u001b[1;31mNameError\u001b[0m: name 'aapl' is not defined"
     ]
    }
   ],
   "source": [
    "prob = (aapl\n",
    "    [['Close']]\n",
    "    .pct_change()\n",
    "    .dropna()\n",
    "    .rename(columns = {'Close':'pct_change_close'})\n",
    "    .sort_values(by = 'pct_change_close')\n",
    "    .assign(quantiles = lambda adf: np.sort(np.random.normal(size = len(adf))))\n",
    ")\n",
    "\n",
    "ax = (qq\n",
    "      .plot.scatter(x = 'qantiles', y = 'pct_change_close', alpha = .3,\n",
    "                    title = 'Probability Plot')\n",
    ")\n",
    "\n",
    "lm = sklearn.linear_model.LinearRegression()\n",
    "X = prob[['quantiles']]\n",
    "y = prob.pct_plot_close.loc[X.index]\n",
    "lm.fit(X, y)\n",
    "x = np.arange(-4, 4)\n",
    "plt.plot(x, lm.coef_ * X + lm.intercept_, c = 'r')"
   ]
  },
  {
   "cell_type": "code",
   "execution_count": null,
   "id": "29c47d36-04a6-4f9e-bc1f-99434fdb5c44",
   "metadata": {},
   "outputs": [],
   "source": []
  }
 ],
 "metadata": {
  "kernelspec": {
   "display_name": "Python 3 (ipykernel)",
   "language": "python",
   "name": "python3"
  },
  "language_info": {
   "codemirror_mode": {
    "name": "ipython",
    "version": 3
   },
   "file_extension": ".py",
   "mimetype": "text/x-python",
   "name": "python",
   "nbconvert_exporter": "python",
   "pygments_lexer": "ipython3",
   "version": "3.10.9"
  }
 },
 "nbformat": 4,
 "nbformat_minor": 5
}
